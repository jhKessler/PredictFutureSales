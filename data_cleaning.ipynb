{
 "cells": [
  {
   "cell_type": "code",
   "execution_count": 1,
   "metadata": {},
   "outputs": [],
   "source": [
    "import os\n",
    "import numpy as np\n",
    "import pandas as pd\n",
    "import matplotlib.pyplot as plt"
   ]
  },
  {
   "cell_type": "code",
   "execution_count": 2,
   "metadata": {},
   "outputs": [
    {
     "name": "stdout",
     "output_type": "stream",
     "text": [
      "[0] items.csv\n",
      "[1] item_categories.csv\n",
      "[2] sales_train.csv\n",
      "[3] sample_submission.csv\n",
      "[4] shops.csv\n",
      "[5] test.csv\n"
     ]
    }
   ],
   "source": [
    "# true if overwriting saved file\n",
    "save = True\n",
    "# show all data files in dataset\n",
    "path_list = []\n",
    "for p in os.listdir(\"data\"):\n",
    "    path_list.append(os.path.join(os.getcwd(), \"data\", p))\n",
    "for index, p in enumerate(path_list):\n",
    "    print(f\"[{index}]\", p.split(\"\\\\\")[-1])"
   ]
  },
  {
   "cell_type": "code",
   "execution_count": 3,
   "metadata": {},
   "outputs": [],
   "source": [
    "# load data\n",
    "items = pd.read_csv(path_list[0])\n",
    "item_ctgr = pd.read_csv(path_list[1])\n",
    "train = pd.read_csv(path_list[2])\n",
    "sample_submission = pd.read_csv(path_list[3])\n",
    "shops = pd.read_csv(path_list[4])\n",
    "test = pd.read_csv(path_list[5])"
   ]
  },
  {
   "cell_type": "code",
   "execution_count": 4,
   "metadata": {},
   "outputs": [
    {
     "name": "stdout",
     "output_type": "stream",
     "text": [
      "Train:\n",
      "Column: date, unique values: 1034\n",
      "Column: date_block_num, unique values: 34\n",
      "Column: shop_id, unique values: 60\n",
      "Column: item_id, unique values: 21807\n",
      "Column: item_price, unique values: 19993\n",
      "Column: item_cnt_day, unique values: 198\n",
      "\n",
      "Test:\n",
      "Column: ID, unique values: 214200\n",
      "Column: shop_id, unique values: 42\n",
      "Column: item_id, unique values: 5100\n"
     ]
    }
   ],
   "source": [
    "# display all datapoints in train and test\n",
    "print(\"Train:\")\n",
    "for c in train.columns:\n",
    "    print(f\"Column: {c}, unique values: {len(train[c].unique())}\")\n",
    "print()\n",
    "print(\"Test:\")\n",
    "for c in test.columns:\n",
    "    print(f\"Column: {c}, unique values: {len(test[c].unique())}\")"
   ]
  },
  {
   "cell_type": "code",
   "execution_count": 5,
   "metadata": {},
   "outputs": [
    {
     "data": {
      "image/png": "[encoded data removed]",
      "text/plain": [
       "<Figure size 432x288 with 1 Axes>"
      ]
     },
     "metadata": {
      "needs_background": "light"
     },
     "output_type": "display_data"
    }
   ],
   "source": [
    "# plot price distribution\n",
    "plt.scatter(x=train[\"item_price\"], y=np.ones_like(train[\"item_price\"]))\n",
    "plt.xlabel(\"Item Price\")\n",
    "plt.show()"
   ]
  },
  {
   "cell_type": "code",
   "execution_count": 6,
   "metadata": {},
   "outputs": [],
   "source": [
    "# drop outlier-items with price over 100k and items with negative price\n",
    "train = train[(train[\"item_price\"] < 100_000) & (train[\"item_price\"] > 0)]"
   ]
  },
  {
   "cell_type": "code",
   "execution_count": 7,
   "metadata": {},
   "outputs": [
    {
     "data": {
      "image/png": "[encoded data removed]",
      "text/plain": [
       "<Figure size 432x288 with 1 Axes>"
      ]
     },
     "metadata": {
      "needs_background": "light"
     },
     "output_type": "display_data"
    }
   ],
   "source": [
    "# plot sale count distribution\n",
    "plt.scatter(x=train[\"item_cnt_day\"], y=np.ones_like(train[\"item_cnt_day\"]))\n",
    "plt.xlabel(\"Item Count\")\n",
    "plt.show()"
   ]
  },
  {
   "cell_type": "code",
   "execution_count": 8,
   "metadata": {},
   "outputs": [],
   "source": [
    "# drop outlier-items with sale count per day over 1k and items with negative salecounts\n",
    "train = train[(train[\"item_cnt_day\"] < 1_000) & (train[\"item_cnt_day\"] > 0)]"
   ]
  },
  {
   "cell_type": "code",
   "execution_count": 9,
   "metadata": {},
   "outputs": [],
   "source": [
    "# drop date column\n",
    "train.drop(\"date\", axis=\"columns\", inplace=True)"
   ]
  },
  {
   "cell_type": "code",
   "execution_count": 10,
   "metadata": {},
   "outputs": [
    {
     "name": "stderr",
     "output_type": "stream",
     "text": [
      "100%|██████████████████████████████████████████████████████████████████████████████████| 34/34 [00:12<00:00,  2.62it/s]"
     ]
    },
    {
     "name": "stdout",
     "output_type": "stream",
     "text": [
      "Building Matrix took 12 seconds\n"
     ]
    },
    {
     "name": "stderr",
     "output_type": "stream",
     "text": [
      "\n"
     ]
    }
   ],
   "source": [
    "import time\n",
    "from itertools import product\n",
    "from tqdm import tqdm\n",
    "start = time.time()\n",
    "# build matrix with all combinations of month, shop, and item\n",
    "matrix = []\n",
    "\n",
    "# loop over months and create item, shop combinations\n",
    "for i in tqdm(range(len(train[\"date_block_num\"].unique()))):\n",
    "    month_sales = train[train[\"date_block_num\"] == i]\n",
    "    month_data = np.array(list(product(\n",
    "    [i],\n",
    "    month_sales[\"shop_id\"].unique(),\n",
    "    month_sales[\"item_id\"].unique())), dtype = np.int16)\n",
    "    matrix.append(month_data)\n",
    "matrix = np.array(matrix, dtype=object)\n",
    "print(f\"Building Matrix took {int(time.time()-start)} seconds\")"
   ]
  },
  {
   "cell_type": "code",
   "execution_count": 11,
   "metadata": {},
   "outputs": [],
   "source": [
    "# format matrix into dataframe again and sort it\n",
    "matrix = pd.DataFrame(np.vstack(matrix), columns=[\"date_block_num\", \"shop_id\", \"item_id\"])\n",
    "matrix.sort_values([\"date_block_num\", \"shop_id\", \"item_id\"], inplace = True)"
   ]
  },
  {
   "cell_type": "code",
   "execution_count": 12,
   "metadata": {},
   "outputs": [],
   "source": [
    "# merge matrix and train to add datapoints\n",
    "train = pd.merge(matrix, train, on=[\"date_block_num\", \"shop_id\", \"item_id\"], how=\"inner\")"
   ]
  },
  {
   "cell_type": "code",
   "execution_count": 13,
   "metadata": {},
   "outputs": [],
   "source": [
    "# add item_cnt_day to train\n",
    "item_prices = train.groupby([\"item_id\"])[\"item_price\"].mean().round().reset_index()\n",
    "train = train.groupby([\"date_block_num\", \"shop_id\", \"item_id\"])[\"item_cnt_day\"].sum().reset_index()"
   ]
  },
  {
   "cell_type": "code",
   "execution_count": 14,
   "metadata": {},
   "outputs": [],
   "source": [
    "# add item price\n",
    "train = pd.merge(train, item_prices, on=\"item_id\", how=\"left\")\n",
    "test = pd.merge(test, item_prices, on=\"item_id\", how=\"left\")"
   ]
  },
  {
   "cell_type": "code",
   "execution_count": 15,
   "metadata": {},
   "outputs": [],
   "source": [
    "# add month of year as datapoint\n",
    "train[\"month_of_year\"] = ((train[\"date_block_num\"] % 12) + 1)\n",
    "test_month = (train[\"date_block_num\"].max() % 12) + 2\n",
    "test[\"month_of_year\"] = test_month"
   ]
  },
  {
   "cell_type": "code",
   "execution_count": 16,
   "metadata": {},
   "outputs": [],
   "source": [
    "# add item category from items df\n",
    "train = pd.merge(train, items[[\"item_id\", \"item_category_id\"]], on=\"item_id\", how=\"left\")\n",
    "test = pd.merge(test, items[[\"item_id\", \"item_category_id\"]], on=\"item_id\", how=\"left\")"
   ]
  },
  {
   "cell_type": "code",
   "execution_count": 17,
   "metadata": {},
   "outputs": [
    {
     "name": "stdout",
     "output_type": "stream",
     "text": [
      "15246 missing prices added\n"
     ]
    }
   ],
   "source": [
    "# some items from the test dataset are new products since they are not in the train ds\n",
    "# to still be able to make predictions about them them i will set their prices to the avg of the item category they are in\n",
    "category_prices = train.groupby(\"item_category_id\")[\"item_price\"].mean().round().reset_index()\n",
    "category_prices.set_index(\"item_category_id\", inplace=True)\n",
    "avg_prices_per_category = category_prices.loc[test[\"item_category_id\"]].reset_index()[\"item_price\"]\n",
    "na_val_cnt = test[\"item_price\"].isnull().sum()\n",
    "print(f\"{na_val_cnt} missing prices added\")\n",
    "test[\"item_price\"].fillna(avg_prices_per_category, inplace=True)\n",
    "test.set_index(\"ID\", inplace=True)"
   ]
  },
  {
   "cell_type": "code",
   "execution_count": 18,
   "metadata": {},
   "outputs": [
    {
     "name": "stderr",
     "output_type": "stream",
     "text": [
      "100%|████████████████████████████████████████████████████████████████████████████████████| 3/3 [00:02<00:00,  1.27it/s]\n"
     ]
    }
   ],
   "source": [
    "month_lag_count = 3\n",
    "train_with_lag = train[train[\"date_block_num\"] >= month_lag_count].copy()\n",
    "sales_data = train[[\"date_block_num\", \"shop_id\", \"item_id\", \"item_cnt_day\"]].copy()\n",
    "test_lag_start = train[\"date_block_num\"].max() - month_lag_count\n",
    "\n",
    "for i in tqdm(range(1, month_lag_count+1)):\n",
    "    month_num = month_lag_count + 1 - i\n",
    "    \n",
    "    # train data\n",
    "    prev_col_name = \"item_cnt_day\" if i == 1 else f\"prev_month_{month_num+1}\"\n",
    "    sales_data.rename(columns={prev_col_name: f\"prev_month_{month_num}\"}, inplace=True)\n",
    "    sales_data[\"date_block_num\"] += 1\n",
    "    train_with_lag = train_with_lag.merge(sales_data, on=[\"date_block_num\", \"shop_id\", \"item_id\"], how=\"left\")\n",
    "    \n",
    "    # test data\n",
    "    test_lag = train[train[\"date_block_num\"] == test_lag_start][[\"shop_id\", \"item_id\", \"item_cnt_day\"]].copy()\n",
    "    test_lag.rename(columns={\"item_cnt_day\": f\"prev_month_{month_num}\"}, inplace=True)\n",
    "    test = test.merge(test_lag, on=[\"shop_id\", \"item_id\"], how=\"left\")\n",
    "    test_lag_start += 1\n",
    "train_with_lag.fillna(0, inplace=True)\n",
    "test.fillna(0, inplace=True)\n",
    "if save:\n",
    "    train_with_lag.to_csv(\"train_cleaned.csv\", index=False)\n",
    "    test.to_csv(\"test_cleaned.csv\", index=False)"
   ]
  }
 ],
 "metadata": {
  "kernelspec": {
   "display_name": "Python 3",
   "language": "python",
   "name": "python3"
  },
  "language_info": {
   "codemirror_mode": {
    "name": "ipython",
    "version": 3
   },
   "file_extension": ".py",
   "mimetype": "text/x-python",
   "name": "python",
   "nbconvert_exporter": "python",
   "pygments_lexer": "ipython3",
   "version": "3.8.5"
  }
 },
 "nbformat": 4,
 "nbformat_minor": 4
}

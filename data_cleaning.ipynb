version https://git-lfs.github.com/spec/v1
oid sha256:67af93a1ea2066ef753593264cb51a6c65a42689859512e0a0b9ebb01e5af7aa
size 24902

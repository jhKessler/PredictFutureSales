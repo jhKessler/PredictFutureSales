{
 "cells": [
  {
   "cell_type": "markdown",
   "metadata": {},
   "source": [
    "# Modelling\n",
    "\n",
    "Now that we have the data in the right format, we can start building our model for making predictions"
   ]
  },
  {
   "cell_type": "code",
   "execution_count": 1,
   "metadata": {},
   "outputs": [],
   "source": [
    "import numpy as np\n",
    "import pandas as pd\n",
    "import xgboost as xgb\n",
    "from sklearn.model_selection import GridSearchCV"
   ]
  },
  {
   "cell_type": "markdown",
   "metadata": {},
   "source": [
    "Lets load our data"
   ]
  },
  {
   "cell_type": "code",
   "execution_count": 2,
   "metadata": {},
   "outputs": [],
   "source": [
    "train_X = pd.read_csv(\"train_data.csv\")\n",
    "\n",
    "test_X = train_X[train_X[\"date_block_num\"] >= train_X[\"date_block_num\"].max()-1]\n",
    "train_X = train_X[train_X[\"date_block_num\"] < train_X[\"date_block_num\"].max()-1]\n",
    "\n",
    "train_y = train_X.pop(\"item_cnt_month\")\n",
    "test_y = test_X.pop(\"item_cnt_month\")"
   ]
  },
  {
   "cell_type": "markdown",
   "metadata": {},
   "source": [
    "Now that we have our data, we can start defining our model.\n",
    "For this usecase we will use the XGBRegressor from the xgboost module, and run multiple setups with GridSearchCrossValidation to find the best parameters for our model."
   ]
  },
  {
   "cell_type": "code",
   "execution_count": 3,
   "metadata": {},
   "outputs": [],
   "source": [
    "param_dict = {\n",
    "    \"n_estimators\": [5_000, 10_000],\n",
    "    \"max_depth\": [10],\n",
    "    \"learning_rate\": [0.1],\n",
    "    \"tree_method\": [\"gpu_hist\"],\n",
    "    \"min_child_weight\": [0.3, 0.5], \n",
    "    \"colsample_bytree\": [0.3, 0.6],\n",
    "    \"subsample\": [0.8], \n",
    "}\n",
    "\n",
    "cross_val = GridSearchCV(\n",
    "    estimator=xgb.XGBRegressor(),\n",
    "    param_grid=param_dict,\n",
    "    verbose=2,\n",
    "    cv=5)"
   ]
  },
  {
   "cell_type": "markdown",
   "metadata": {},
   "source": [
    "# Training\n",
    "Now lets run the Training:"
   ]
  },
  {
   "cell_type": "code",
   "execution_count": 4,
   "metadata": {},
   "outputs": [
    {
     "output_type": "stream",
     "name": "stdout",
     "text": [
      "Fitting 5 folds for each of 8 candidates, totalling 40 fits\n",
      "[Parallel(n_jobs=1)]: Using backend SequentialBackend with 1 concurrent workers.\n",
      "[CV] colsample_bytree=0.3, learning_rate=0.1, max_depth=10, min_child_weight=0.3, n_estimators=5000, subsample=0.8, tree_method=gpu_hist \n",
      "[CV]  colsample_bytree=0.3, learning_rate=0.1, max_depth=10, min_child_weight=0.3, n_estimators=5000, subsample=0.8, tree_method=gpu_hist, total= 1.5min\n",
      "[CV] colsample_bytree=0.3, learning_rate=0.1, max_depth=10, min_child_weight=0.3, n_estimators=5000, subsample=0.8, tree_method=gpu_hist \n",
      "[Parallel(n_jobs=1)]: Done   1 out of   1 | elapsed:  1.5min remaining:    0.0s\n",
      "[CV]  colsample_bytree=0.3, learning_rate=0.1, max_depth=10, min_child_weight=0.3, n_estimators=5000, subsample=0.8, tree_method=gpu_hist, total= 1.6min\n",
      "[CV] colsample_bytree=0.3, learning_rate=0.1, max_depth=10, min_child_weight=0.3, n_estimators=5000, subsample=0.8, tree_method=gpu_hist \n",
      "[CV]  colsample_bytree=0.3, learning_rate=0.1, max_depth=10, min_child_weight=0.3, n_estimators=5000, subsample=0.8, tree_method=gpu_hist, total= 1.5min\n",
      "[CV] colsample_bytree=0.3, learning_rate=0.1, max_depth=10, min_child_weight=0.3, n_estimators=5000, subsample=0.8, tree_method=gpu_hist \n",
      "[CV]  colsample_bytree=0.3, learning_rate=0.1, max_depth=10, min_child_weight=0.3, n_estimators=5000, subsample=0.8, tree_method=gpu_hist, total= 1.1min\n",
      "[CV] colsample_bytree=0.3, learning_rate=0.1, max_depth=10, min_child_weight=0.3, n_estimators=5000, subsample=0.8, tree_method=gpu_hist \n",
      "[CV]  colsample_bytree=0.3, learning_rate=0.1, max_depth=10, min_child_weight=0.3, n_estimators=5000, subsample=0.8, tree_method=gpu_hist, total= 1.1min\n",
      "[CV] colsample_bytree=0.3, learning_rate=0.1, max_depth=10, min_child_weight=0.3, n_estimators=10000, subsample=0.8, tree_method=gpu_hist \n",
      "[CV]  colsample_bytree=0.3, learning_rate=0.1, max_depth=10, min_child_weight=0.3, n_estimators=10000, subsample=0.8, tree_method=gpu_hist, total= 1.5min\n",
      "[CV] colsample_bytree=0.3, learning_rate=0.1, max_depth=10, min_child_weight=0.3, n_estimators=10000, subsample=0.8, tree_method=gpu_hist \n",
      "[CV]  colsample_bytree=0.3, learning_rate=0.1, max_depth=10, min_child_weight=0.3, n_estimators=10000, subsample=0.8, tree_method=gpu_hist, total= 1.6min\n",
      "[CV] colsample_bytree=0.3, learning_rate=0.1, max_depth=10, min_child_weight=0.3, n_estimators=10000, subsample=0.8, tree_method=gpu_hist \n",
      "[CV]  colsample_bytree=0.3, learning_rate=0.1, max_depth=10, min_child_weight=0.3, n_estimators=10000, subsample=0.8, tree_method=gpu_hist, total= 1.7min\n",
      "[CV] colsample_bytree=0.3, learning_rate=0.1, max_depth=10, min_child_weight=0.3, n_estimators=10000, subsample=0.8, tree_method=gpu_hist \n",
      "[CV]  colsample_bytree=0.3, learning_rate=0.1, max_depth=10, min_child_weight=0.3, n_estimators=10000, subsample=0.8, tree_method=gpu_hist, total= 1.3min\n",
      "[CV] colsample_bytree=0.3, learning_rate=0.1, max_depth=10, min_child_weight=0.3, n_estimators=10000, subsample=0.8, tree_method=gpu_hist \n",
      "[CV]  colsample_bytree=0.3, learning_rate=0.1, max_depth=10, min_child_weight=0.3, n_estimators=10000, subsample=0.8, tree_method=gpu_hist, total= 1.1min\n",
      "[CV] colsample_bytree=0.3, learning_rate=0.1, max_depth=10, min_child_weight=0.5, n_estimators=5000, subsample=0.8, tree_method=gpu_hist \n",
      "[CV]  colsample_bytree=0.3, learning_rate=0.1, max_depth=10, min_child_weight=0.5, n_estimators=5000, subsample=0.8, tree_method=gpu_hist, total= 1.4min\n",
      "[CV] colsample_bytree=0.3, learning_rate=0.1, max_depth=10, min_child_weight=0.5, n_estimators=5000, subsample=0.8, tree_method=gpu_hist \n",
      "[CV]  colsample_bytree=0.3, learning_rate=0.1, max_depth=10, min_child_weight=0.5, n_estimators=5000, subsample=0.8, tree_method=gpu_hist, total= 1.5min\n",
      "[CV] colsample_bytree=0.3, learning_rate=0.1, max_depth=10, min_child_weight=0.5, n_estimators=5000, subsample=0.8, tree_method=gpu_hist \n",
      "[CV]  colsample_bytree=0.3, learning_rate=0.1, max_depth=10, min_child_weight=0.5, n_estimators=5000, subsample=0.8, tree_method=gpu_hist, total= 1.6min\n",
      "[CV] colsample_bytree=0.3, learning_rate=0.1, max_depth=10, min_child_weight=0.5, n_estimators=5000, subsample=0.8, tree_method=gpu_hist \n",
      "[CV]  colsample_bytree=0.3, learning_rate=0.1, max_depth=10, min_child_weight=0.5, n_estimators=5000, subsample=0.8, tree_method=gpu_hist, total= 1.3min\n",
      "[CV] colsample_bytree=0.3, learning_rate=0.1, max_depth=10, min_child_weight=0.5, n_estimators=5000, subsample=0.8, tree_method=gpu_hist \n",
      "[CV]  colsample_bytree=0.3, learning_rate=0.1, max_depth=10, min_child_weight=0.5, n_estimators=5000, subsample=0.8, tree_method=gpu_hist, total= 1.1min\n",
      "[CV] colsample_bytree=0.3, learning_rate=0.1, max_depth=10, min_child_weight=0.5, n_estimators=10000, subsample=0.8, tree_method=gpu_hist \n",
      "[CV]  colsample_bytree=0.3, learning_rate=0.1, max_depth=10, min_child_weight=0.5, n_estimators=10000, subsample=0.8, tree_method=gpu_hist, total= 1.5min\n",
      "[CV] colsample_bytree=0.3, learning_rate=0.1, max_depth=10, min_child_weight=0.5, n_estimators=10000, subsample=0.8, tree_method=gpu_hist \n",
      "[CV]  colsample_bytree=0.3, learning_rate=0.1, max_depth=10, min_child_weight=0.5, n_estimators=10000, subsample=0.8, tree_method=gpu_hist, total= 1.6min\n",
      "[CV] colsample_bytree=0.3, learning_rate=0.1, max_depth=10, min_child_weight=0.5, n_estimators=10000, subsample=0.8, tree_method=gpu_hist \n",
      "[CV]  colsample_bytree=0.3, learning_rate=0.1, max_depth=10, min_child_weight=0.5, n_estimators=10000, subsample=0.8, tree_method=gpu_hist, total= 1.7min\n",
      "[CV] colsample_bytree=0.3, learning_rate=0.1, max_depth=10, min_child_weight=0.5, n_estimators=10000, subsample=0.8, tree_method=gpu_hist \n",
      "[CV]  colsample_bytree=0.3, learning_rate=0.1, max_depth=10, min_child_weight=0.5, n_estimators=10000, subsample=0.8, tree_method=gpu_hist, total= 1.3min\n",
      "[CV] colsample_bytree=0.3, learning_rate=0.1, max_depth=10, min_child_weight=0.5, n_estimators=10000, subsample=0.8, tree_method=gpu_hist \n",
      "[CV]  colsample_bytree=0.3, learning_rate=0.1, max_depth=10, min_child_weight=0.5, n_estimators=10000, subsample=0.8, tree_method=gpu_hist, total= 1.0min\n",
      "[CV] colsample_bytree=0.6, learning_rate=0.1, max_depth=10, min_child_weight=0.3, n_estimators=5000, subsample=0.8, tree_method=gpu_hist \n",
      "[CV]  colsample_bytree=0.6, learning_rate=0.1, max_depth=10, min_child_weight=0.3, n_estimators=5000, subsample=0.8, tree_method=gpu_hist, total= 1.9min\n",
      "[CV] colsample_bytree=0.6, learning_rate=0.1, max_depth=10, min_child_weight=0.3, n_estimators=5000, subsample=0.8, tree_method=gpu_hist \n",
      "[CV]  colsample_bytree=0.6, learning_rate=0.1, max_depth=10, min_child_weight=0.3, n_estimators=5000, subsample=0.8, tree_method=gpu_hist, total= 1.8min\n",
      "[CV] colsample_bytree=0.6, learning_rate=0.1, max_depth=10, min_child_weight=0.3, n_estimators=5000, subsample=0.8, tree_method=gpu_hist \n",
      "[CV]  colsample_bytree=0.6, learning_rate=0.1, max_depth=10, min_child_weight=0.3, n_estimators=5000, subsample=0.8, tree_method=gpu_hist, total= 3.1min\n",
      "[CV] colsample_bytree=0.6, learning_rate=0.1, max_depth=10, min_child_weight=0.3, n_estimators=5000, subsample=0.8, tree_method=gpu_hist \n",
      "[CV]  colsample_bytree=0.6, learning_rate=0.1, max_depth=10, min_child_weight=0.3, n_estimators=5000, subsample=0.8, tree_method=gpu_hist, total= 1.9min\n",
      "[CV] colsample_bytree=0.6, learning_rate=0.1, max_depth=10, min_child_weight=0.3, n_estimators=5000, subsample=0.8, tree_method=gpu_hist \n",
      "[CV]  colsample_bytree=0.6, learning_rate=0.1, max_depth=10, min_child_weight=0.3, n_estimators=5000, subsample=0.8, tree_method=gpu_hist, total= 1.5min\n",
      "[CV] colsample_bytree=0.6, learning_rate=0.1, max_depth=10, min_child_weight=0.3, n_estimators=10000, subsample=0.8, tree_method=gpu_hist \n",
      "[CV]  colsample_bytree=0.6, learning_rate=0.1, max_depth=10, min_child_weight=0.3, n_estimators=10000, subsample=0.8, tree_method=gpu_hist, total= 2.1min\n",
      "[CV] colsample_bytree=0.6, learning_rate=0.1, max_depth=10, min_child_weight=0.3, n_estimators=10000, subsample=0.8, tree_method=gpu_hist \n",
      "[CV]  colsample_bytree=0.6, learning_rate=0.1, max_depth=10, min_child_weight=0.3, n_estimators=10000, subsample=0.8, tree_method=gpu_hist, total= 2.0min\n",
      "[CV] colsample_bytree=0.6, learning_rate=0.1, max_depth=10, min_child_weight=0.3, n_estimators=10000, subsample=0.8, tree_method=gpu_hist \n",
      "[CV]  colsample_bytree=0.6, learning_rate=0.1, max_depth=10, min_child_weight=0.3, n_estimators=10000, subsample=0.8, tree_method=gpu_hist, total= 3.3min\n",
      "[CV] colsample_bytree=0.6, learning_rate=0.1, max_depth=10, min_child_weight=0.3, n_estimators=10000, subsample=0.8, tree_method=gpu_hist \n",
      "[CV]  colsample_bytree=0.6, learning_rate=0.1, max_depth=10, min_child_weight=0.3, n_estimators=10000, subsample=0.8, tree_method=gpu_hist, total= 2.0min\n",
      "[CV] colsample_bytree=0.6, learning_rate=0.1, max_depth=10, min_child_weight=0.3, n_estimators=10000, subsample=0.8, tree_method=gpu_hist \n",
      "[CV]  colsample_bytree=0.6, learning_rate=0.1, max_depth=10, min_child_weight=0.3, n_estimators=10000, subsample=0.8, tree_method=gpu_hist, total= 1.5min\n",
      "[CV] colsample_bytree=0.6, learning_rate=0.1, max_depth=10, min_child_weight=0.5, n_estimators=5000, subsample=0.8, tree_method=gpu_hist \n",
      "[CV]  colsample_bytree=0.6, learning_rate=0.1, max_depth=10, min_child_weight=0.5, n_estimators=5000, subsample=0.8, tree_method=gpu_hist, total= 2.1min\n",
      "[CV] colsample_bytree=0.6, learning_rate=0.1, max_depth=10, min_child_weight=0.5, n_estimators=5000, subsample=0.8, tree_method=gpu_hist \n",
      "[CV]  colsample_bytree=0.6, learning_rate=0.1, max_depth=10, min_child_weight=0.5, n_estimators=5000, subsample=0.8, tree_method=gpu_hist, total= 2.1min\n",
      "[CV] colsample_bytree=0.6, learning_rate=0.1, max_depth=10, min_child_weight=0.5, n_estimators=5000, subsample=0.8, tree_method=gpu_hist \n",
      "[CV]  colsample_bytree=0.6, learning_rate=0.1, max_depth=10, min_child_weight=0.5, n_estimators=5000, subsample=0.8, tree_method=gpu_hist, total= 3.3min\n",
      "[CV] colsample_bytree=0.6, learning_rate=0.1, max_depth=10, min_child_weight=0.5, n_estimators=5000, subsample=0.8, tree_method=gpu_hist \n",
      "[CV]  colsample_bytree=0.6, learning_rate=0.1, max_depth=10, min_child_weight=0.5, n_estimators=5000, subsample=0.8, tree_method=gpu_hist, total= 2.0min\n",
      "[CV] colsample_bytree=0.6, learning_rate=0.1, max_depth=10, min_child_weight=0.5, n_estimators=5000, subsample=0.8, tree_method=gpu_hist \n",
      "[CV]  colsample_bytree=0.6, learning_rate=0.1, max_depth=10, min_child_weight=0.5, n_estimators=5000, subsample=0.8, tree_method=gpu_hist, total= 1.5min\n",
      "[CV] colsample_bytree=0.6, learning_rate=0.1, max_depth=10, min_child_weight=0.5, n_estimators=10000, subsample=0.8, tree_method=gpu_hist \n",
      "[CV]  colsample_bytree=0.6, learning_rate=0.1, max_depth=10, min_child_weight=0.5, n_estimators=10000, subsample=0.8, tree_method=gpu_hist, total= 2.2min\n",
      "[CV] colsample_bytree=0.6, learning_rate=0.1, max_depth=10, min_child_weight=0.5, n_estimators=10000, subsample=0.8, tree_method=gpu_hist \n",
      "[CV]  colsample_bytree=0.6, learning_rate=0.1, max_depth=10, min_child_weight=0.5, n_estimators=10000, subsample=0.8, tree_method=gpu_hist, total= 2.1min\n",
      "[CV] colsample_bytree=0.6, learning_rate=0.1, max_depth=10, min_child_weight=0.5, n_estimators=10000, subsample=0.8, tree_method=gpu_hist \n",
      "[CV]  colsample_bytree=0.6, learning_rate=0.1, max_depth=10, min_child_weight=0.5, n_estimators=10000, subsample=0.8, tree_method=gpu_hist, total= 3.1min\n",
      "[CV] colsample_bytree=0.6, learning_rate=0.1, max_depth=10, min_child_weight=0.5, n_estimators=10000, subsample=0.8, tree_method=gpu_hist \n",
      "[CV]  colsample_bytree=0.6, learning_rate=0.1, max_depth=10, min_child_weight=0.5, n_estimators=10000, subsample=0.8, tree_method=gpu_hist, total= 1.9min\n",
      "[CV] colsample_bytree=0.6, learning_rate=0.1, max_depth=10, min_child_weight=0.5, n_estimators=10000, subsample=0.8, tree_method=gpu_hist \n",
      "[CV]  colsample_bytree=0.6, learning_rate=0.1, max_depth=10, min_child_weight=0.5, n_estimators=10000, subsample=0.8, tree_method=gpu_hist, total= 1.5min\n",
      "[Parallel(n_jobs=1)]: Done  40 out of  40 | elapsed: 71.1min finished\n"
     ]
    },
    {
     "output_type": "execute_result",
     "data": {
      "text/plain": [
       "GridSearchCV(cv=5,\n",
       "             estimator=XGBRegressor(base_score=None, booster=None,\n",
       "                                    colsample_bylevel=None,\n",
       "                                    colsample_bynode=None,\n",
       "                                    colsample_bytree=None, gamma=None,\n",
       "                                    gpu_id=None, importance_type='gain',\n",
       "                                    interaction_constraints=None,\n",
       "                                    learning_rate=None, max_delta_step=None,\n",
       "                                    max_depth=None, min_child_weight=None,\n",
       "                                    missing=nan, monotone_constraints=None,\n",
       "                                    n_estimators=100, n_jobs=...\n",
       "                                    num_parallel_tree=None, random_state=None,\n",
       "                                    reg_alpha=None, reg_lambda=None,\n",
       "                                    scale_pos_weight=None, subsample=None,\n",
       "                                    tree_method=None, validate_parameters=None,\n",
       "                                    verbosity=None),\n",
       "             param_grid={'colsample_bytree': [0.3, 0.6], 'learning_rate': [0.1],\n",
       "                         'max_depth': [10], 'min_child_weight': [0.3, 0.5],\n",
       "                         'n_estimators': [5000, 10000], 'subsample': [0.8],\n",
       "                         'tree_method': ['gpu_hist']},\n",
       "             verbose=2)"
      ]
     },
     "metadata": {},
     "execution_count": 4
    }
   ],
   "source": [
    "cross_val.fit(\n",
    "    train_X, train_y, \n",
    "    early_stopping_rounds=20,\n",
    "    eval_set=[(train_X, train_y), (test_X, test_y)],\n",
    "    eval_metric=\"rmse\",\n",
    "    verbose=False\n",
    "    )"
   ]
  },
  {
   "cell_type": "markdown",
   "metadata": {},
   "source": [
    "Lets use the best model that we found through Cross Validation to make predictions for the submission and save it in a csv file."
   ]
  },
  {
   "cell_type": "code",
   "execution_count": 11,
   "metadata": {},
   "outputs": [],
   "source": [
    "model = cross_val.best_estimator_\n",
    "# load prediction data\n",
    "submission_data = pd.read_csv(\"test.csv\")\n",
    "# load submission sample\n",
    "submission = pd.read_csv(\"data/sample_submission.csv\", index_col=\"ID\")\n",
    "submission[\"item_cnt_month\"] = model.predict(submission_data)\n",
    "# some values are slightly negative, indicating no sales, lets set them to 0\n",
    "submission.loc[submission[\"item_cnt_month\"] < 0] = 0\n",
    "# save data\n",
    "submission.to_csv(\"submission.csv\")"
   ]
  }
 ],
 "metadata": {
  "kernelspec": {
   "name": "python385jvsc74a57bd0af5b9358f624b7a10e69b5311cbd31159d36e52e31ed36b18bb11cfc0c99bfa2",
   "display_name": "Python 3.8.5 64-bit ('base': conda)"
  },
  "language_info": {
   "codemirror_mode": {
    "name": "ipython",
    "version": 3
   },
   "file_extension": ".py",
   "mimetype": "text/x-python",
   "name": "python",
   "nbconvert_exporter": "python",
   "pygments_lexer": "ipython3",
   "version": "3.8.5"
  }
 },
 "nbformat": 4,
 "nbformat_minor": 4
}
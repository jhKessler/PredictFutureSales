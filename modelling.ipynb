{
 "cells": [
  {
   "cell_type": "markdown",
   "metadata": {},
   "source": [
    "# Modelling\n",
    "\n",
    "Now that we have the data in the right format, we can start building our model for making predictions"
   ]
  },
  {
   "cell_type": "code",
   "execution_count": 1,
   "metadata": {},
   "outputs": [],
   "source": [
    "import numpy as np\n",
    "import pandas as pd\n",
    "import xgboost as xgb\n",
    "from sklearn.model_selection import GridSearchCV"
   ]
  },
  {
   "cell_type": "markdown",
   "metadata": {},
   "source": [
    "Lets load our data"
   ]
  },
  {
   "cell_type": "code",
   "execution_count": 2,
   "metadata": {},
   "outputs": [],
   "source": [
    "train_X = pd.read_csv(\"train_data.csv\")\n",
    "\n",
    "test_X = train_X[train_X[\"date_block_num\"] >= train_X[\"date_block_num\"].max()-1]\n",
    "train_X = train_X[train_X[\"date_block_num\"] < train_X[\"date_block_num\"].max()-1]\n",
    "\n",
    "train_y = train_X.pop(\"item_cnt_month\")\n",
    "test_y = test_X.pop(\"item_cnt_month\")"
   ]
  },
  {
   "cell_type": "markdown",
   "metadata": {},
   "source": [
    "Now that we have our data, we can start defining our model.\n",
    "For this usecase we will use the XGBRegressor from the xgboost module, and run multiple setups with GridSearchCrossValidation to find the best parameters for our model."
   ]
  },
  {
   "cell_type": "code",
   "execution_count": 3,
   "metadata": {},
   "outputs": [],
   "source": [
    "param_dict = {\n",
    "    \"n_estimators\": [1_000, 5000],\n",
    "    \"max_depth\": [5, 10],\n",
    "    \"learning_rate\": [0.1, 0.3],\n",
    "    \"tree_method\": [\"gpu_hist\"],\n",
    "    \"min_child_weight\": [0.3, 0.5], \n",
    "    \"colsample_bytree\": [0.3, 0.6],\n",
    "    \"subsample\": [0.8, 1.0], \n",
    "}\n",
    "\n",
    "cross_val = GridSearchCV(\n",
    "    estimator=xgb.XGBRegressor(),\n",
    "    param_grid=param_dict,\n",
    "    verbose=2,\n",
    "    cv=5)"
   ]
  },
  {
   "cell_type": "markdown",
   "metadata": {},
   "source": [
    "# Training\n",
    "Now lets run the Training:"
   ]
  },
  {
   "cell_type": "code",
   "execution_count": 4,
   "metadata": {},
   "outputs": [],
   "source": [
    "cross_val.fit(\n",
    "    train_X, train_y, \n",
    "    early_stopping_rounds=20,\n",
    "    eval_set=[(train_X, train_y), (test_X, test_y)],\n",
    "    eval_metric=\"rmse\",\n",
    "    verbose=False\n",
    "    )"
   ]
  },
  {
   "cell_type": "markdown",
   "metadata": {},
   "source": [
    "Lets use the best model that we found through Cross Validation to make predictions for the submission and save it in a csv file."
   ]
  },
  {
   "cell_type": "code",
   "execution_count": 5,
   "metadata": {},
   "outputs": [
    {
     "output_type": "error",
     "ename": "NameError",
     "evalue": "name 'model' is not defined",
     "traceback": [
      "\u001b[1;31m---------------------------------------------------------------------------\u001b[0m",
      "\u001b[1;31mNameError\u001b[0m                                 Traceback (most recent call last)",
      "\u001b[1;32m<ipython-input-5-cb12d1082142>\u001b[0m in \u001b[0;36m<module>\u001b[1;34m\u001b[0m\n\u001b[0;32m      2\u001b[0m \u001b[0msubmission_data\u001b[0m \u001b[1;33m=\u001b[0m \u001b[0mpd\u001b[0m\u001b[1;33m.\u001b[0m\u001b[0mread_csv\u001b[0m\u001b[1;33m(\u001b[0m\u001b[1;34m\"test.csv\"\u001b[0m\u001b[1;33m)\u001b[0m\u001b[1;33m\u001b[0m\u001b[1;33m\u001b[0m\u001b[0m\n\u001b[0;32m      3\u001b[0m \u001b[0msubmission\u001b[0m \u001b[1;33m=\u001b[0m \u001b[0mpd\u001b[0m\u001b[1;33m.\u001b[0m\u001b[0mread_csv\u001b[0m\u001b[1;33m(\u001b[0m\u001b[1;34m\"data/sample_submission.csv\"\u001b[0m\u001b[1;33m,\u001b[0m \u001b[0mindex_col\u001b[0m\u001b[1;33m=\u001b[0m\u001b[1;34m\"ID\"\u001b[0m\u001b[1;33m)\u001b[0m\u001b[1;33m\u001b[0m\u001b[1;33m\u001b[0m\u001b[0m\n\u001b[1;32m----> 4\u001b[1;33m \u001b[0msubmission\u001b[0m\u001b[1;33m[\u001b[0m\u001b[1;34m\"item_cnt_month\"\u001b[0m\u001b[1;33m]\u001b[0m \u001b[1;33m=\u001b[0m \u001b[0mmodel\u001b[0m\u001b[1;33m.\u001b[0m\u001b[0mpredict\u001b[0m\u001b[1;33m(\u001b[0m\u001b[0msubmission_data\u001b[0m\u001b[1;33m)\u001b[0m\u001b[1;33m\u001b[0m\u001b[1;33m\u001b[0m\u001b[0m\n\u001b[0m\u001b[0;32m      5\u001b[0m \u001b[0msubmission\u001b[0m\u001b[1;33m.\u001b[0m\u001b[0mto_csv\u001b[0m\u001b[1;33m(\u001b[0m\u001b[1;34m\"submission.csv\"\u001b[0m\u001b[1;33m)\u001b[0m\u001b[1;33m\u001b[0m\u001b[1;33m\u001b[0m\u001b[0m\n",
      "\u001b[1;31mNameError\u001b[0m: name 'model' is not defined"
     ]
    }
   ],
   "source": [
    "model = cross_val.best_estimator_\n",
    "# load prediction datta\n",
    "submission_data = pd.read_csv(\"test.csv\")\n",
    "# load submission sample\n",
    "submission = pd.read_csv(\"data/sample_submission.csv\", index_col=\"ID\")\n",
    "submission[\"item_cnt_month\"] = model.predict(submission_data)\n",
    "# some values are slightly negative, indicating no sales, lets set them to 0\n",
    "submission[submission[\"item_cnt_month\"] < 0][\"item_cnt_month\"] = 0\n",
    "# save data\n",
    "submission.to_csv(\"submission.csv\")"
   ]
  }
 ],
 "metadata": {
  "kernelspec": {
   "name": "python385jvsc74a57bd0af5b9358f624b7a10e69b5311cbd31159d36e52e31ed36b18bb11cfc0c99bfa2",
   "display_name": "Python 3.8.5 64-bit ('base': conda)"
  },
  "language_info": {
   "codemirror_mode": {
    "name": "ipython",
    "version": 3
   },
   "file_extension": ".py",
   "mimetype": "text/x-python",
   "name": "python",
   "nbconvert_exporter": "python",
   "pygments_lexer": "ipython3",
   "version": "3.8.5"
  }
 },
 "nbformat": 4,
 "nbformat_minor": 4
}
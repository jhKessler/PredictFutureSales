{
 "cells": [
  {
   "cell_type": "code",
   "execution_count": 1,
   "metadata": {},
   "outputs": [],
   "source": [
    "import pandas as pd\n",
    "import numpy as np\n",
    "import lightgbm as lgb\n",
    "from sklearn.model_selection import train_test_split"
   ]
  },
  {
   "cell_type": "code",
   "execution_count": 2,
   "metadata": {},
   "outputs": [],
   "source": [
    "train_X = pd.read_csv(\"format/train_data.csv\")\n",
    "train_y = train_X.pop(\"item_cnt_month\")\n",
    "\n",
    "X_train, X_test, y_train, y_test = train_test_split(\n",
    "    train_X,\n",
    "    train_y,\n",
    "    test_size = 0.15,\n",
    "    random_state = 42 \n",
    ")\n",
    "\n",
    "train_data = lgb.Dataset(X_train, label=y_train)\n",
    "train_data = lgb.Dataset(X_train, label=y_train)\n",
    "\n",
    "prediction_data = pd.read_csv(\"format/prediction_data.csv\")\n",
    "\n",
    "model = lgb.LGBMRegressor()\n",
    "model.fit(X_train, y_train, eval_set = [(X_test,y_test)], eval_metric='logloss')\n",
    "\n",
    "submission = pd.read_csv(\"data/sample_submission.csv\")\n",
    "submission.set_index(\"ID\", drop = True, inplace = True)\n",
    "\n",
    "prediction_data = pd.read_csv(\"format/prediction_data.csv\")\n",
    "\n",
    "submission[\"prediction\"] = model.predict(prediction_data.values)\n",
    "\n",
    "submission.to_csv(\"submission.csv\")"
   ]
  }
 ],
 "metadata": {
  "interpreter": {
   "hash": "d165cc963bcabd8bdd323ef0c94434871da12394ba82de0f324bd3f8fc85e6b9"
  },
  "kernelspec": {
   "display_name": "Python 3.8.8 64-bit ('base': conda)",
   "name": "python3"
  },
  "language_info": {
   "codemirror_mode": {
    "name": "ipython",
    "version": 3
   },
   "file_extension": ".py",
   "mimetype": "text/x-python",
   "name": "python",
   "nbconvert_exporter": "python",
   "pygments_lexer": "ipython3",
   "version": "3.8.8"
  },
  "orig_nbformat": 4
 },
 "nbformat": 4,
 "nbformat_minor": 2
}

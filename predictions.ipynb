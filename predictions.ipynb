{
 "cells": [
  {
   "cell_type": "code",
   "execution_count": 1,
   "metadata": {},
   "outputs": [],
   "source": [
    "import os\n",
    "import pandas as pd\n",
    "import numpy as np\n",
    "from sklearn.linear_model import LinearRegression\n",
    "from sklearn.metrics import mean_squared_error\n",
    "\n",
    "pd.options.mode.chained_assignment = None"
   ]
  },
  {
   "cell_type": "code",
   "execution_count": 2,
   "metadata": {},
   "outputs": [],
   "source": [
    "# load sample submission\n",
    "sample_submission = pd.read_csv(\"data/sample_submission.csv\")\n",
    "sample_submission.set_index(\"ID\", inplace=True)\n",
    "\n",
    "# load cleaned train data\n",
    "train = pd.read_csv(\"train_cleaned.csv\")\n",
    "# split into train and test\n",
    "test_X = train.loc[(train[\"date_block_num\"] == train[\"date_block_num\"].max())]\n",
    "train_X = train.loc[(train[\"date_block_num\"] < train[\"date_block_num\"].max())]\n",
    "train_y = train_X.pop(\"item_cnt_day\")\n",
    "test_y = test_X.pop(\"item_cnt_day\")\n",
    "# drop date_block_num column since we dont need it anymore\n",
    "train_X.drop(columns=[\"date_block_num\"], inplace=True)\n",
    "test_X.drop(columns=[\"date_block_num\"], inplace=True)\n",
    "\n",
    "# load data we want to predict\n",
    "pred_data = pd.read_csv(\"test_cleaned.csv\")"
   ]
  },
  {
   "cell_type": "code",
   "execution_count": 3,
   "metadata": {},
   "outputs": [
    {
     "data": {
      "text/plain": [
       "LinearRegression()"
      ]
     },
     "execution_count": 3,
     "metadata": {},
     "output_type": "execute_result"
    }
   ],
   "source": [
    "# declare linear regression model we will use to make predictions\n",
    "model = LinearRegression()\n",
    "# fit model to training data\n",
    "model.fit(train_X.values, train_y.values)"
   ]
  },
  {
   "cell_type": "code",
   "execution_count": 4,
   "metadata": {},
   "outputs": [
    {
     "name": "stdout",
     "output_type": "stream",
     "text": [
      "Model accuracy: 1.3814830235900262, RMSE: 5.095005229373506\n"
     ]
    }
   ],
   "source": [
    "\n",
    "# evaluate model accuracy\n",
    "\n",
    "# True when we want to round the numbers to Integers\n",
    "round_predictions = False\n",
    "\n",
    "test_predictions = model.predict(test_X)\n",
    "\n",
    "if round_predictions:\n",
    "    test_predictions = test_predictions.round()\n",
    "# difference between predictions and real sales\n",
    "err = np.absolute(test_predictions - test_y.values)\n",
    "# avg of difference\n",
    "std_err = err.sum() / err.shape[0]\n",
    "# root mean squared error\n",
    "rmse = mean_squared_error(test_y.values, test_predictions, squared=False)\n",
    "print(f\"Model accuracy: {std_err}, RMSE: {rmse}\")"
   ]
  },
  {
   "cell_type": "code",
   "execution_count": 5,
   "metadata": {},
   "outputs": [],
   "source": [
    "# make predictions for submission\n",
    "predictions = model.predict(pred_data.values)\n",
    "if round_predictions:\n",
    "    predictions = predictions.round()\n",
    "sample_submission[\"item_cnt_month\"] = predictions\n",
    "sample_submission.to_csv(\"submission.csv\")"
   ]
  }
 ],
 "metadata": {
  "kernelspec": {
   "display_name": "Python 3",
   "language": "python",
   "name": "python3"
  },
  "language_info": {
   "codemirror_mode": {
    "name": "ipython",
    "version": 3
   },
   "file_extension": ".py",
   "mimetype": "text/x-python",
   "name": "python",
   "nbconvert_exporter": "python",
   "pygments_lexer": "ipython3",
   "version": "3.8.5"
  }
 },
 "nbformat": 4,
 "nbformat_minor": 4
}
